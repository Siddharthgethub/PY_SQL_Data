{
 "cells": [
  {
   "cell_type": "code",
   "execution_count": 3,
   "id": "f86d3394",
   "metadata": {},
   "outputs": [
    {
     "name": "stdout",
     "output_type": "stream",
     "text": [
      "          ID       Date Region         City         Product\n",
      "0    ID07351 2022-01-01   East       Boston          Carrot\n",
      "1    ID07352 2022-01-04   East       Boston     Whole Wheat\n",
      "2    ID07353 2022-01-07   West  Los Angeles  Chocolate Chip\n",
      "3    ID07354 2022-01-10   East     New York  Chocolate Chip\n",
      "4    ID07355 2022-01-13   East       Boston       Arrowroot\n",
      "..       ...        ...    ...          ...             ...\n",
      "971  ID07590 2023-12-18   East       Boston       Arrowroot\n",
      "972  ID07591 2023-12-21   East       Boston  Chocolate Chip\n",
      "973  ID07592 2023-12-24   East       Boston     Whole Wheat\n",
      "974  ID07593 2023-12-27   West  Los Angeles            Bran\n",
      "975  ID07594 2023-12-30   West  Los Angeles  Oatmeal Raisin\n",
      "\n",
      "[976 rows x 5 columns]\n"
     ]
    }
   ],
   "source": [
    "import pyodbc\n",
    "import pandas as pd\n",
    "\n",
    "# define server authontication\n",
    "server = 'SIDDHARTH\\SQLEXPRESS'  # e.g., 'localhost\\SQLEXPRESS'\n",
    "database = 'SalesDB'\n",
    "username = 'Siddharth\\siddh'\n",
    "password = '143431'\n",
    "driver = '{ODBC Driver 17 for SQL Server}'  # Make sure you have the right driver installed\n",
    "# create connection srting \n",
    "conn_str = f'DRIVER={driver};SERVER={server};DATABASE={database};Trusted_Connection=yes;'\n",
    "# Establish connection\n",
    "conn = pyodbc.connect(conn_str)\n",
    "# create cursor \n",
    "cursor = conn.cursor()\n",
    "# Define SQL query to extract data\n",
    "query = \"Select ID, Date, Region, City, Product from [dbo].[Sheet1$]\"\n",
    "# Excecute Query\n",
    "cursor.execute(query)\n",
    "# Fetch data\n",
    "row = cursor.fetchall()\n",
    "# Load data to data frame\n",
    "columns = [column[0] for column in cursor.description]\n",
    "data = pd.DataFrame.from_records(row, columns=columns)\n",
    "# close connection\n",
    "cursor.close()\n",
    "conn.close()\n",
    "#Display Data Frame\n",
    "print(data)\n"
   ]
  },
  {
   "cell_type": "code",
   "execution_count": null,
   "id": "89010d05",
   "metadata": {},
   "outputs": [],
   "source": []
  }
 ],
 "metadata": {
  "kernelspec": {
   "display_name": "Python 3 (ipykernel)",
   "language": "python",
   "name": "python3"
  },
  "language_info": {
   "codemirror_mode": {
    "name": "ipython",
    "version": 3
   },
   "file_extension": ".py",
   "mimetype": "text/x-python",
   "name": "python",
   "nbconvert_exporter": "python",
   "pygments_lexer": "ipython3",
   "version": "3.9.13"
  }
 },
 "nbformat": 4,
 "nbformat_minor": 5
}
